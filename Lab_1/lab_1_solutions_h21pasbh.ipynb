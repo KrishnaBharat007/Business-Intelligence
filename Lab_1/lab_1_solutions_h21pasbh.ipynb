{
 "cells": [
  {
   "cell_type": "markdown",
   "metadata": {},
   "source": [
    "# Task2: Using the pandas Python Library."
   ]
  },
  {
   "cell_type": "code",
   "execution_count": null,
   "metadata": {},
   "outputs": [],
   "source": [
    "import requests\n",
    "#get the data from a download link\n",
    "download_url = \"https://raw.githubusercontent.com/fivethirtyeight/data/master/nba-elo/nbaallelo.csv\"\n",
    "target_csv_path = \"nba_all_elo.csv\"\n",
    "response = requests.get(download_url)\n",
    "response.raise_for_status() #check that the request was successful\n",
    "#save the file nba_all_elo.csv in your current working directory\n",
    "with open(target_csv_path, \"wb\") as f:\n",
    "    f.write(response.content)\n",
    "print(\"download ready\")"
   ]
  },
  {
   "cell_type": "code",
   "execution_count": 1,
   "metadata": {},
   "outputs": [
    {
     "data": {
      "text/plain": [
       "pandas.core.frame.DataFrame"
      ]
     },
     "execution_count": 1,
     "metadata": {},
     "output_type": "execute_result"
    }
   ],
   "source": [
    "#importing pandas in Python with the pd alias\n",
    "import pandas as pd\n",
    "\n",
    "#read in the dataset and store it as a DataFrame object in the variable nba\n",
    "#when you copy the file path, if you get the FileNotFoundError: [Errno 2]\n",
    "#then flip the backslash to a forward slash, and voila, it works!\n",
    "nba = pd.read_csv(\"nba_all_elo.csv\")\n",
    "\n",
    "#check nba's type, it should be a DataFrame\n",
    "type(nba)"
   ]
  },
  {
   "cell_type": "code",
   "execution_count": null,
   "metadata": {},
   "outputs": [],
   "source": [
    "#len() determines the number of rows (observations) in a dataset\n",
    "len(nba)\n",
    "#.shape determines dimensionality\n",
    "#the result is a tuple containing number of rows and columns\n",
    "nba.shape\n",
    "\n",
    "#take a look at the first five rows to see the actual data\n",
    "nba.head()\n",
    "#configure pandas to display all 23 columns\n",
    "pd.set_option(\"display.max.columns\", None)\n",
    "#show only two decimal places\n",
    "pd.set_option(\"display.precision\", 2)\n",
    "#display last five rows\n",
    "nba.tail()\n"
   ]
  },
  {
   "cell_type": "markdown",
   "metadata": {},
   "source": [
    "# Question.1: \n",
    "Display the first 3 rows of your dataset. Remember that the default nba.head() shows the first 5 rows.\n",
    "\n",
    "Hint: always refer to the documentation; the chances are that you will find a solution by tweaking\n",
    "some optional parameters."
   ]
  },
  {
   "cell_type": "markdown",
   "metadata": {},
   "source": [
    "# Solution 1:"
   ]
  },
  {
   "cell_type": "code",
   "execution_count": 2,
   "metadata": {},
   "outputs": [
    {
     "data": {
      "text/html": [
       "<div>\n",
       "<style scoped>\n",
       "    .dataframe tbody tr th:only-of-type {\n",
       "        vertical-align: middle;\n",
       "    }\n",
       "\n",
       "    .dataframe tbody tr th {\n",
       "        vertical-align: top;\n",
       "    }\n",
       "\n",
       "    .dataframe thead th {\n",
       "        text-align: right;\n",
       "    }\n",
       "</style>\n",
       "<table border=\"1\" class=\"dataframe\">\n",
       "  <thead>\n",
       "    <tr style=\"text-align: right;\">\n",
       "      <th></th>\n",
       "      <th>gameorder</th>\n",
       "      <th>game_id</th>\n",
       "      <th>lg_id</th>\n",
       "      <th>_iscopy</th>\n",
       "      <th>year_id</th>\n",
       "      <th>date_game</th>\n",
       "      <th>seasongame</th>\n",
       "      <th>is_playoffs</th>\n",
       "      <th>team_id</th>\n",
       "      <th>fran_id</th>\n",
       "      <th>...</th>\n",
       "      <th>win_equiv</th>\n",
       "      <th>opp_id</th>\n",
       "      <th>opp_fran</th>\n",
       "      <th>opp_pts</th>\n",
       "      <th>opp_elo_i</th>\n",
       "      <th>opp_elo_n</th>\n",
       "      <th>game_location</th>\n",
       "      <th>game_result</th>\n",
       "      <th>forecast</th>\n",
       "      <th>notes</th>\n",
       "    </tr>\n",
       "  </thead>\n",
       "  <tbody>\n",
       "    <tr>\n",
       "      <th>0</th>\n",
       "      <td>1</td>\n",
       "      <td>194611010TRH</td>\n",
       "      <td>NBA</td>\n",
       "      <td>0</td>\n",
       "      <td>1947</td>\n",
       "      <td>11/1/1946</td>\n",
       "      <td>1</td>\n",
       "      <td>0</td>\n",
       "      <td>TRH</td>\n",
       "      <td>Huskies</td>\n",
       "      <td>...</td>\n",
       "      <td>40.294830</td>\n",
       "      <td>NYK</td>\n",
       "      <td>Knicks</td>\n",
       "      <td>68</td>\n",
       "      <td>1300.0000</td>\n",
       "      <td>1306.7233</td>\n",
       "      <td>H</td>\n",
       "      <td>L</td>\n",
       "      <td>0.640065</td>\n",
       "      <td>NaN</td>\n",
       "    </tr>\n",
       "    <tr>\n",
       "      <th>1</th>\n",
       "      <td>1</td>\n",
       "      <td>194611010TRH</td>\n",
       "      <td>NBA</td>\n",
       "      <td>1</td>\n",
       "      <td>1947</td>\n",
       "      <td>11/1/1946</td>\n",
       "      <td>1</td>\n",
       "      <td>0</td>\n",
       "      <td>NYK</td>\n",
       "      <td>Knicks</td>\n",
       "      <td>...</td>\n",
       "      <td>41.705170</td>\n",
       "      <td>TRH</td>\n",
       "      <td>Huskies</td>\n",
       "      <td>66</td>\n",
       "      <td>1300.0000</td>\n",
       "      <td>1293.2767</td>\n",
       "      <td>A</td>\n",
       "      <td>W</td>\n",
       "      <td>0.359935</td>\n",
       "      <td>NaN</td>\n",
       "    </tr>\n",
       "    <tr>\n",
       "      <th>2</th>\n",
       "      <td>2</td>\n",
       "      <td>194611020CHS</td>\n",
       "      <td>NBA</td>\n",
       "      <td>0</td>\n",
       "      <td>1947</td>\n",
       "      <td>11/2/1946</td>\n",
       "      <td>1</td>\n",
       "      <td>0</td>\n",
       "      <td>CHS</td>\n",
       "      <td>Stags</td>\n",
       "      <td>...</td>\n",
       "      <td>42.012257</td>\n",
       "      <td>NYK</td>\n",
       "      <td>Knicks</td>\n",
       "      <td>47</td>\n",
       "      <td>1306.7233</td>\n",
       "      <td>1297.0712</td>\n",
       "      <td>H</td>\n",
       "      <td>W</td>\n",
       "      <td>0.631101</td>\n",
       "      <td>NaN</td>\n",
       "    </tr>\n",
       "  </tbody>\n",
       "</table>\n",
       "<p>3 rows × 23 columns</p>\n",
       "</div>"
      ],
      "text/plain": [
       "   gameorder       game_id lg_id  _iscopy  year_id  date_game  seasongame  \\\n",
       "0          1  194611010TRH   NBA        0     1947  11/1/1946           1   \n",
       "1          1  194611010TRH   NBA        1     1947  11/1/1946           1   \n",
       "2          2  194611020CHS   NBA        0     1947  11/2/1946           1   \n",
       "\n",
       "   is_playoffs team_id  fran_id  ...  win_equiv  opp_id  opp_fran  opp_pts  \\\n",
       "0            0     TRH  Huskies  ...  40.294830     NYK    Knicks       68   \n",
       "1            0     NYK   Knicks  ...  41.705170     TRH   Huskies       66   \n",
       "2            0     CHS    Stags  ...  42.012257     NYK    Knicks       47   \n",
       "\n",
       "   opp_elo_i  opp_elo_n  game_location  game_result  forecast notes  \n",
       "0  1300.0000  1306.7233              H            L  0.640065   NaN  \n",
       "1  1300.0000  1293.2767              A            W  0.359935   NaN  \n",
       "2  1306.7233  1297.0712              H            W  0.631101   NaN  \n",
       "\n",
       "[3 rows x 23 columns]"
      ]
     },
     "execution_count": 2,
     "metadata": {},
     "output_type": "execute_result"
    }
   ],
   "source": [
    "nba.head(3)"
   ]
  },
  {
   "cell_type": "markdown",
   "metadata": {},
   "source": [
    "# Solution 1 Ends"
   ]
  },
  {
   "cell_type": "markdown",
   "metadata": {},
   "source": [
    "# Task3: Get to Know Your Data."
   ]
  },
  {
   "cell_type": "code",
   "execution_count": null,
   "metadata": {},
   "outputs": [],
   "source": [
    "#you can put anything into a list, but the columns of a DataFrame contain values of a specific data type.\n",
    "#by comparing pandas and Python data structures, you will see that this behaviour makes pandas much faster!\n",
    "#display all columns and their data types with .info()\n",
    "nba.info()"
   ]
  },
  {
   "cell_type": "code",
   "execution_count": null,
   "metadata": {},
   "outputs": [],
   "source": [
    "#get an idea of the values each column contains\n",
    "nba.describe()"
   ]
  },
  {
   "cell_type": "code",
   "execution_count": 3,
   "metadata": {},
   "outputs": [
    {
     "data": {
      "text/html": [
       "<div>\n",
       "<style scoped>\n",
       "    .dataframe tbody tr th:only-of-type {\n",
       "        vertical-align: middle;\n",
       "    }\n",
       "\n",
       "    .dataframe tbody tr th {\n",
       "        vertical-align: top;\n",
       "    }\n",
       "\n",
       "    .dataframe thead th {\n",
       "        text-align: right;\n",
       "    }\n",
       "</style>\n",
       "<table border=\"1\" class=\"dataframe\">\n",
       "  <thead>\n",
       "    <tr style=\"text-align: right;\">\n",
       "      <th></th>\n",
       "      <th>game_id</th>\n",
       "      <th>lg_id</th>\n",
       "      <th>date_game</th>\n",
       "      <th>team_id</th>\n",
       "      <th>fran_id</th>\n",
       "      <th>opp_id</th>\n",
       "      <th>opp_fran</th>\n",
       "      <th>game_location</th>\n",
       "      <th>game_result</th>\n",
       "      <th>notes</th>\n",
       "    </tr>\n",
       "  </thead>\n",
       "  <tbody>\n",
       "    <tr>\n",
       "      <th>count</th>\n",
       "      <td>126314</td>\n",
       "      <td>126314</td>\n",
       "      <td>126314</td>\n",
       "      <td>126314</td>\n",
       "      <td>126314</td>\n",
       "      <td>126314</td>\n",
       "      <td>126314</td>\n",
       "      <td>126314</td>\n",
       "      <td>126314</td>\n",
       "      <td>5424</td>\n",
       "    </tr>\n",
       "    <tr>\n",
       "      <th>unique</th>\n",
       "      <td>63157</td>\n",
       "      <td>2</td>\n",
       "      <td>12426</td>\n",
       "      <td>104</td>\n",
       "      <td>53</td>\n",
       "      <td>104</td>\n",
       "      <td>53</td>\n",
       "      <td>3</td>\n",
       "      <td>2</td>\n",
       "      <td>231</td>\n",
       "    </tr>\n",
       "    <tr>\n",
       "      <th>top</th>\n",
       "      <td>194611010TRH</td>\n",
       "      <td>NBA</td>\n",
       "      <td>4/13/2011</td>\n",
       "      <td>BOS</td>\n",
       "      <td>Lakers</td>\n",
       "      <td>BOS</td>\n",
       "      <td>Lakers</td>\n",
       "      <td>H</td>\n",
       "      <td>L</td>\n",
       "      <td>at New York NY</td>\n",
       "    </tr>\n",
       "    <tr>\n",
       "      <th>freq</th>\n",
       "      <td>2</td>\n",
       "      <td>118016</td>\n",
       "      <td>30</td>\n",
       "      <td>5997</td>\n",
       "      <td>6024</td>\n",
       "      <td>5997</td>\n",
       "      <td>6024</td>\n",
       "      <td>63138</td>\n",
       "      <td>63157</td>\n",
       "      <td>440</td>\n",
       "    </tr>\n",
       "  </tbody>\n",
       "</table>\n",
       "</div>"
      ],
      "text/plain": [
       "             game_id   lg_id  date_game team_id fran_id  opp_id opp_fran  \\\n",
       "count         126314  126314     126314  126314  126314  126314   126314   \n",
       "unique         63157       2      12426     104      53     104       53   \n",
       "top     194611010TRH     NBA  4/13/2011     BOS  Lakers     BOS   Lakers   \n",
       "freq               2  118016         30    5997    6024    5997     6024   \n",
       "\n",
       "       game_location game_result           notes  \n",
       "count         126314      126314            5424  \n",
       "unique             3           2             231  \n",
       "top                H           L  at New York NY  \n",
       "freq           63138       63157             440  "
      ]
     },
     "execution_count": 3,
     "metadata": {},
     "output_type": "execute_result"
    }
   ],
   "source": [
    "#you can provide other data types using the include parameter \n",
    "import numpy as np\n",
    "nba.describe(include=np.object)"
   ]
  },
  {
   "cell_type": "markdown",
   "metadata": {},
   "source": [
    "# Question.2: \n",
    "Take a look at the team_id and fran_id (franchise) columns.\n",
    "What observations can you make at this point (i.e. do you see anything strange here)? \n",
    "Write your initial observation, then carry on with section 3.3 to be able to answer it by exploring your dataset"
   ]
  },
  {
   "cell_type": "markdown",
   "metadata": {},
   "source": [
    "# Solution 2"
   ]
  },
  {
   "cell_type": "markdown",
   "metadata": {},
   "source": [
    "The result of **nba.describe(include=np.object)** shows that for the francise Lakers there are 6024 matches but when we check the team ID column, we have Bostan Celtics has played 5997 matches, which means Los Angel Lakers has played much lesser that BOS. Let us identify which other team has playes for Lakers franchise."
   ]
  },
  {
   "cell_type": "code",
   "execution_count": 4,
   "metadata": {},
   "outputs": [
    {
     "data": {
      "text/plain": [
       "team_id\n",
       "LAL        5078\n",
       "MNL         946\n",
       "dtype: int64"
      ]
     },
     "execution_count": 4,
     "metadata": {},
     "output_type": "execute_result"
    }
   ],
   "source": [
    "nba[nba['fran_id'] == 'Lakers'][['team_id']].value_counts()"
   ]
  },
  {
   "cell_type": "markdown",
   "metadata": {},
   "source": [
    "So, we can clearly see that out 6024 matches of Lakers franchise, 5078 matches were played by Los Angels Lakers and 946 matches were played by Minneapolis Lakers. Lets see when MNL and LAL represented Lakers."
   ]
  },
  {
   "cell_type": "code",
   "execution_count": 5,
   "metadata": {},
   "outputs": [
    {
     "data": {
      "text/plain": [
       "'1/1/1949'"
      ]
     },
     "execution_count": 5,
     "metadata": {},
     "output_type": "execute_result"
    }
   ],
   "source": [
    "nba.loc[nba['team_id'] == 'MNL' , 'date_game'].min()"
   ]
  },
  {
   "cell_type": "code",
   "execution_count": 6,
   "metadata": {},
   "outputs": [
    {
     "data": {
      "text/plain": [
       "'4/9/1959'"
      ]
     },
     "execution_count": 6,
     "metadata": {},
     "output_type": "execute_result"
    }
   ],
   "source": [
    "nba.loc[nba['team_id'] == 'MNL' , 'date_game'].max()"
   ]
  },
  {
   "cell_type": "code",
   "execution_count": 7,
   "metadata": {},
   "outputs": [
    {
     "data": {
      "text/plain": [
       "'1/1/1961'"
      ]
     },
     "execution_count": 7,
     "metadata": {},
     "output_type": "execute_result"
    }
   ],
   "source": [
    "nba.loc[nba['team_id'] == 'LAL' , 'date_game'].min()"
   ]
  },
  {
   "cell_type": "code",
   "execution_count": 8,
   "metadata": {},
   "outputs": [
    {
     "data": {
      "text/plain": [
       "'6/9/2009'"
      ]
     },
     "execution_count": 8,
     "metadata": {},
     "output_type": "execute_result"
    }
   ],
   "source": [
    "nba.loc[nba['team_id'] == 'LAL' , 'date_game'].max()"
   ]
  },
  {
   "cell_type": "markdown",
   "metadata": {},
   "source": [
    "So we can clearly conclude that Minneapolis Lakers played for Lakers from 1949 to 1959 and Los Angel Lakers played from 1961 to 2009 for Lakers."
   ]
  },
  {
   "cell_type": "markdown",
   "metadata": {},
   "source": [
    "# Solution 2 Ends"
   ]
  },
  {
   "cell_type": "code",
   "execution_count": null,
   "metadata": {},
   "outputs": [],
   "source": [
    "nba[\"team_id\"].value_counts()\n",
    "nba[\"fran_id\"].value_counts()"
   ]
  },
  {
   "cell_type": "code",
   "execution_count": null,
   "metadata": {},
   "outputs": [],
   "source": [
    "#find out when they played those games\n",
    "nba.loc[nba[\"team_id\"] == \"MNL\", \"date_game\"].min()\n",
    "nba.loc[nba[\"team_id\"] == \"MNL\", \"date_game\"].max()\n",
    "nba.loc[nba[\"team_id\"] == \"MNL\", \"date_game\"].agg((\"min\", \"max\")) #aggregate the two functions"
   ]
  },
  {
   "cell_type": "markdown",
   "metadata": {},
   "source": [
    "# Question.3 : \n",
    "Find out how many wins and losses the Minneapolis Lakers had and how many points they scored during the matches in the dataset."
   ]
  },
  {
   "cell_type": "markdown",
   "metadata": {},
   "source": [
    "# Solution 3"
   ]
  },
  {
   "cell_type": "code",
   "execution_count": 9,
   "metadata": {},
   "outputs": [
    {
     "name": "stdout",
     "output_type": "stream",
     "text": [
      "Wins and Losses:\n",
      "W    524\n",
      "L    422\n",
      "Name: game_result, dtype: int64\n",
      "\n",
      "Points Scored During the Matches:\n",
      "88229\n"
     ]
    }
   ],
   "source": [
    "print('Wins and Losses:\\n',nba.loc[nba['team_id'] == \"MNL\", 'game_result'].value_counts(),sep = '')\n",
    "print('\\nPoints Scored During the Matches:\\n',nba.loc[nba['team_id'] == \"MNL\", 'pts'].sum(),sep = '')"
   ]
  },
  {
   "cell_type": "markdown",
   "metadata": {},
   "source": [
    "# Solution 3 Ends"
   ]
  },
  {
   "cell_type": "markdown",
   "metadata": {},
   "source": [
    "# Question.4: \n",
    "Now you understand why the Boston Celtics team \"BOS\" played the most games in the dataset, find out how many points the Boston\n",
    "Celtics have scored during all matches contained in this dataset."
   ]
  },
  {
   "cell_type": "markdown",
   "metadata": {},
   "source": [
    "# Solution 4"
   ]
  },
  {
   "cell_type": "code",
   "execution_count": 10,
   "metadata": {},
   "outputs": [
    {
     "name": "stdout",
     "output_type": "stream",
     "text": [
      "Points Scored By Boston Celtics During all the Matches: 626484\n"
     ]
    }
   ],
   "source": [
    "print('Points Scored By Boston Celtics During all the Matches:',nba.loc[nba['team_id'] == \"BOS\", 'pts'].sum())"
   ]
  },
  {
   "cell_type": "markdown",
   "metadata": {},
   "source": [
    "# Solution 4 Ends"
   ]
  },
  {
   "cell_type": "markdown",
   "metadata": {},
   "source": [
    "# Question.5:\n",
    "After exploring your dataset, explain your observations from Question.2 in a structured way"
   ]
  },
  {
   "cell_type": "markdown",
   "metadata": {},
   "source": [
    "# Solution 5"
   ]
  },
  {
   "cell_type": "code",
   "execution_count": 11,
   "metadata": {},
   "outputs": [
    {
     "data": {
      "text/html": [
       "<div>\n",
       "<style scoped>\n",
       "    .dataframe tbody tr th:only-of-type {\n",
       "        vertical-align: middle;\n",
       "    }\n",
       "\n",
       "    .dataframe tbody tr th {\n",
       "        vertical-align: top;\n",
       "    }\n",
       "\n",
       "    .dataframe thead th {\n",
       "        text-align: right;\n",
       "    }\n",
       "</style>\n",
       "<table border=\"1\" class=\"dataframe\">\n",
       "  <thead>\n",
       "    <tr style=\"text-align: right;\">\n",
       "      <th></th>\n",
       "      <th>team_id</th>\n",
       "      <th>fran_id</th>\n",
       "    </tr>\n",
       "  </thead>\n",
       "  <tbody>\n",
       "    <tr>\n",
       "      <th>9730</th>\n",
       "      <td>LAL</td>\n",
       "      <td>Lakers</td>\n",
       "    </tr>\n",
       "  </tbody>\n",
       "</table>\n",
       "</div>"
      ],
      "text/plain": [
       "     team_id fran_id\n",
       "9730     LAL  Lakers"
      ]
     },
     "execution_count": 11,
     "metadata": {},
     "output_type": "execute_result"
    }
   ],
   "source": [
    "nba[nba['team_id'] == 'LAL'][['team_id','fran_id']].drop_duplicates()"
   ]
  },
  {
   "cell_type": "code",
   "execution_count": 12,
   "metadata": {},
   "outputs": [
    {
     "data": {
      "text/html": [
       "<div>\n",
       "<style scoped>\n",
       "    .dataframe tbody tr th:only-of-type {\n",
       "        vertical-align: middle;\n",
       "    }\n",
       "\n",
       "    .dataframe tbody tr th {\n",
       "        vertical-align: top;\n",
       "    }\n",
       "\n",
       "    .dataframe thead th {\n",
       "        text-align: right;\n",
       "    }\n",
       "</style>\n",
       "<table border=\"1\" class=\"dataframe\">\n",
       "  <thead>\n",
       "    <tr style=\"text-align: right;\">\n",
       "      <th></th>\n",
       "      <th>team_id</th>\n",
       "      <th>fran_id</th>\n",
       "    </tr>\n",
       "  </thead>\n",
       "  <tbody>\n",
       "    <tr>\n",
       "      <th>1136</th>\n",
       "      <td>MNL</td>\n",
       "      <td>Lakers</td>\n",
       "    </tr>\n",
       "  </tbody>\n",
       "</table>\n",
       "</div>"
      ],
      "text/plain": [
       "     team_id fran_id\n",
       "1136     MNL  Lakers"
      ]
     },
     "execution_count": 12,
     "metadata": {},
     "output_type": "execute_result"
    }
   ],
   "source": [
    "nba[nba['team_id'] == 'MNL'][['team_id','fran_id']].drop_duplicates()"
   ]
  },
  {
   "cell_type": "code",
   "execution_count": 13,
   "metadata": {},
   "outputs": [
    {
     "data": {
      "text/html": [
       "<div>\n",
       "<style scoped>\n",
       "    .dataframe tbody tr th:only-of-type {\n",
       "        vertical-align: middle;\n",
       "    }\n",
       "\n",
       "    .dataframe tbody tr th {\n",
       "        vertical-align: top;\n",
       "    }\n",
       "\n",
       "    .dataframe thead th {\n",
       "        text-align: right;\n",
       "    }\n",
       "</style>\n",
       "<table border=\"1\" class=\"dataframe\">\n",
       "  <thead>\n",
       "    <tr style=\"text-align: right;\">\n",
       "      <th></th>\n",
       "      <th>team_id</th>\n",
       "      <th>fran_id</th>\n",
       "    </tr>\n",
       "  </thead>\n",
       "  <tbody>\n",
       "    <tr>\n",
       "      <th>6</th>\n",
       "      <td>BOS</td>\n",
       "      <td>Celtics</td>\n",
       "    </tr>\n",
       "  </tbody>\n",
       "</table>\n",
       "</div>"
      ],
      "text/plain": [
       "  team_id  fran_id\n",
       "6     BOS  Celtics"
      ]
     },
     "execution_count": 13,
     "metadata": {},
     "output_type": "execute_result"
    }
   ],
   "source": [
    "nba[nba['team_id'] == 'BOS'][['team_id','fran_id']].drop_duplicates()"
   ]
  },
  {
   "cell_type": "code",
   "execution_count": 14,
   "metadata": {},
   "outputs": [
    {
     "data": {
      "text/plain": [
       "team_id\n",
       "BOS        5997\n",
       "dtype: int64"
      ]
     },
     "execution_count": 14,
     "metadata": {},
     "output_type": "execute_result"
    }
   ],
   "source": [
    "nba[nba['fran_id'] == 'Celtics'][['team_id']].value_counts()"
   ]
  },
  {
   "cell_type": "markdown",
   "metadata": {},
   "source": [
    "We can observe that the franchise Lakers has the highest number of matches played compared to all other franchises. Los Angel Lakers and Minneapolis Lakers played for Lakers which was together 6024 matches making the franchise Lakers to have the highest number of matches.\n",
    "\n",
    "We also observe that the team which played highest number of matches is Bostan Celtics which belongs to Celtics which is also the total number of matches for Celtics."
   ]
  },
  {
   "cell_type": "markdown",
   "metadata": {},
   "source": [
    "# Solution 5 Ends"
   ]
  },
  {
   "cell_type": "markdown",
   "metadata": {},
   "source": [
    "# Task4: Data Access methods (loc and iloc)."
   ]
  },
  {
   "cell_type": "code",
   "execution_count": null,
   "metadata": {},
   "outputs": [],
   "source": [
    "#Examples:\n",
    "\n",
    "#accessing data using a label\n",
    "#city_data.loc[\"Amsterdam\"]\n",
    "\n",
    "#accessing data between two labels\n",
    "#city_data.loc[\"Tokyo\": \"Toronto\"]\n",
    "\n",
    "#accessing data using the positional index\n",
    "nba.iloc[1]\n"
   ]
  },
  {
   "cell_type": "markdown",
   "metadata": {},
   "source": [
    "# Question.6 (report your answer):\n",
    "6.1) Use a data access method to display the 4th row from the bottom of the nba dataset.\n",
    "\n",
    "6.2) Use a data access method to display the 2nd row from the top of the nba dataset.\n",
    "\n",
    "6.3) Access all games between the labels 5555 and 5559; you only want to see the names of teams and the scores"
   ]
  },
  {
   "cell_type": "markdown",
   "metadata": {},
   "source": [
    "# Solution 6.1"
   ]
  },
  {
   "cell_type": "code",
   "execution_count": 15,
   "metadata": {},
   "outputs": [
    {
     "data": {
      "text/plain": [
       "gameorder               63156\n",
       "game_id          201506140GSW\n",
       "lg_id                     NBA\n",
       "_iscopy                     0\n",
       "year_id                  2015\n",
       "date_game           6/14/2015\n",
       "seasongame                102\n",
       "is_playoffs                 1\n",
       "team_id                   GSW\n",
       "fran_id              Warriors\n",
       "pts                       104\n",
       "elo_i               1809.9791\n",
       "elo_n               1813.6349\n",
       "win_equiv           68.013329\n",
       "opp_id                    CLE\n",
       "opp_fran            Cavaliers\n",
       "opp_pts                    91\n",
       "opp_elo_i           1704.3949\n",
       "opp_elo_n           1700.7391\n",
       "game_location               H\n",
       "game_result                 W\n",
       "forecast             0.765565\n",
       "notes                     NaN\n",
       "Name: 126310, dtype: object"
      ]
     },
     "execution_count": 15,
     "metadata": {},
     "output_type": "execute_result"
    }
   ],
   "source": [
    "nba.iloc[-4]"
   ]
  },
  {
   "cell_type": "markdown",
   "metadata": {},
   "source": [
    "# Solution 6.2"
   ]
  },
  {
   "cell_type": "code",
   "execution_count": 16,
   "metadata": {},
   "outputs": [
    {
     "data": {
      "text/plain": [
       "gameorder                   1\n",
       "game_id          194611010TRH\n",
       "lg_id                     NBA\n",
       "_iscopy                     1\n",
       "year_id                  1947\n",
       "date_game           11/1/1946\n",
       "seasongame                  1\n",
       "is_playoffs                 0\n",
       "team_id                   NYK\n",
       "fran_id                Knicks\n",
       "pts                        68\n",
       "elo_i                  1300.0\n",
       "elo_n               1306.7233\n",
       "win_equiv            41.70517\n",
       "opp_id                    TRH\n",
       "opp_fran              Huskies\n",
       "opp_pts                    66\n",
       "opp_elo_i              1300.0\n",
       "opp_elo_n           1293.2767\n",
       "game_location               A\n",
       "game_result                 W\n",
       "forecast             0.359935\n",
       "notes                     NaN\n",
       "Name: 1, dtype: object"
      ]
     },
     "execution_count": 16,
     "metadata": {},
     "output_type": "execute_result"
    }
   ],
   "source": [
    "nba.iloc[1]"
   ]
  },
  {
   "cell_type": "markdown",
   "metadata": {},
   "source": [
    "# Solution 6.3"
   ]
  },
  {
   "cell_type": "code",
   "execution_count": 17,
   "metadata": {},
   "outputs": [
    {
     "data": {
      "text/html": [
       "<div>\n",
       "<style scoped>\n",
       "    .dataframe tbody tr th:only-of-type {\n",
       "        vertical-align: middle;\n",
       "    }\n",
       "\n",
       "    .dataframe tbody tr th {\n",
       "        vertical-align: top;\n",
       "    }\n",
       "\n",
       "    .dataframe thead th {\n",
       "        text-align: right;\n",
       "    }\n",
       "</style>\n",
       "<table border=\"1\" class=\"dataframe\">\n",
       "  <thead>\n",
       "    <tr style=\"text-align: right;\">\n",
       "      <th></th>\n",
       "      <th>team_id</th>\n",
       "      <th>opp_id</th>\n",
       "      <th>pts</th>\n",
       "      <th>opp_pts</th>\n",
       "    </tr>\n",
       "  </thead>\n",
       "  <tbody>\n",
       "    <tr>\n",
       "      <th>5556</th>\n",
       "      <td>BOS</td>\n",
       "      <td>NYK</td>\n",
       "      <td>95</td>\n",
       "      <td>74</td>\n",
       "    </tr>\n",
       "    <tr>\n",
       "      <th>5557</th>\n",
       "      <td>NYK</td>\n",
       "      <td>BOS</td>\n",
       "      <td>74</td>\n",
       "      <td>95</td>\n",
       "    </tr>\n",
       "    <tr>\n",
       "      <th>5558</th>\n",
       "      <td>ROC</td>\n",
       "      <td>SYR</td>\n",
       "      <td>81</td>\n",
       "      <td>86</td>\n",
       "    </tr>\n",
       "  </tbody>\n",
       "</table>\n",
       "</div>"
      ],
      "text/plain": [
       "     team_id opp_id  pts  opp_pts\n",
       "5556     BOS    NYK   95       74\n",
       "5557     NYK    BOS   74       95\n",
       "5558     ROC    SYR   81       86"
      ]
     },
     "execution_count": 17,
     "metadata": {},
     "output_type": "execute_result"
    }
   ],
   "source": [
    "nba.iloc[5556:5559][['team_id','opp_id','pts','opp_pts']]"
   ]
  },
  {
   "cell_type": "markdown",
   "metadata": {},
   "source": [
    "The question says to show rows 'Between 5555 and 5559' and not 'From 5555 to 5559'. So the rows 5555 and 5559 are excluded."
   ]
  },
  {
   "cell_type": "markdown",
   "metadata": {},
   "source": [
    "# Solution 6 Ends"
   ]
  },
  {
   "cell_type": "markdown",
   "metadata": {},
   "source": [
    "# Task5: Querying the Dataset."
   ]
  },
  {
   "cell_type": "code",
   "execution_count": null,
   "metadata": {},
   "outputs": [],
   "source": [
    "#create a new DataFrame that contains only games played after 2010\n",
    "current_decade = nba[nba[\"year_id\"] > 2010]\n",
    "current_decade.shape"
   ]
  },
  {
   "cell_type": "markdown",
   "metadata": {},
   "source": [
    "# Question.7:\n",
    "Create a new DataFrame that consists of the games played between 2000 and 2009."
   ]
  },
  {
   "cell_type": "markdown",
   "metadata": {},
   "source": [
    "# Solution 7"
   ]
  },
  {
   "cell_type": "code",
   "execution_count": 18,
   "metadata": {},
   "outputs": [
    {
     "name": "stdout",
     "output_type": "stream",
     "text": [
      "(20652, 23)\n"
     ]
    },
    {
     "data": {
      "text/html": [
       "<div>\n",
       "<style scoped>\n",
       "    .dataframe tbody tr th:only-of-type {\n",
       "        vertical-align: middle;\n",
       "    }\n",
       "\n",
       "    .dataframe tbody tr th {\n",
       "        vertical-align: top;\n",
       "    }\n",
       "\n",
       "    .dataframe thead th {\n",
       "        text-align: right;\n",
       "    }\n",
       "</style>\n",
       "<table border=\"1\" class=\"dataframe\">\n",
       "  <thead>\n",
       "    <tr style=\"text-align: right;\">\n",
       "      <th></th>\n",
       "      <th>gameorder</th>\n",
       "      <th>game_id</th>\n",
       "      <th>lg_id</th>\n",
       "      <th>_iscopy</th>\n",
       "      <th>year_id</th>\n",
       "      <th>date_game</th>\n",
       "      <th>seasongame</th>\n",
       "      <th>is_playoffs</th>\n",
       "      <th>team_id</th>\n",
       "      <th>fran_id</th>\n",
       "      <th>...</th>\n",
       "      <th>win_equiv</th>\n",
       "      <th>opp_id</th>\n",
       "      <th>opp_fran</th>\n",
       "      <th>opp_pts</th>\n",
       "      <th>opp_elo_i</th>\n",
       "      <th>opp_elo_n</th>\n",
       "      <th>game_location</th>\n",
       "      <th>game_result</th>\n",
       "      <th>forecast</th>\n",
       "      <th>notes</th>\n",
       "    </tr>\n",
       "  </thead>\n",
       "  <tbody>\n",
       "    <tr>\n",
       "      <th>87750</th>\n",
       "      <td>43876</td>\n",
       "      <td>200010310ATL</td>\n",
       "      <td>NBA</td>\n",
       "      <td>0</td>\n",
       "      <td>2001</td>\n",
       "      <td>10/31/2000</td>\n",
       "      <td>1</td>\n",
       "      <td>0</td>\n",
       "      <td>ATL</td>\n",
       "      <td>Hawks</td>\n",
       "      <td>...</td>\n",
       "      <td>26.311760</td>\n",
       "      <td>CHH</td>\n",
       "      <td>Pelicans</td>\n",
       "      <td>106</td>\n",
       "      <td>1557.8643</td>\n",
       "      <td>1570.7832</td>\n",
       "      <td>H</td>\n",
       "      <td>L</td>\n",
       "      <td>0.372095</td>\n",
       "      <td>NaN</td>\n",
       "    </tr>\n",
       "    <tr>\n",
       "      <th>87751</th>\n",
       "      <td>43876</td>\n",
       "      <td>200010310ATL</td>\n",
       "      <td>NBA</td>\n",
       "      <td>1</td>\n",
       "      <td>2001</td>\n",
       "      <td>10/31/2000</td>\n",
       "      <td>1</td>\n",
       "      <td>0</td>\n",
       "      <td>CHH</td>\n",
       "      <td>Pelicans</td>\n",
       "      <td>...</td>\n",
       "      <td>48.286263</td>\n",
       "      <td>ATL</td>\n",
       "      <td>Hawks</td>\n",
       "      <td>82</td>\n",
       "      <td>1366.9685</td>\n",
       "      <td>1354.0496</td>\n",
       "      <td>A</td>\n",
       "      <td>W</td>\n",
       "      <td>0.627905</td>\n",
       "      <td>NaN</td>\n",
       "    </tr>\n",
       "    <tr>\n",
       "      <th>87752</th>\n",
       "      <td>43877</td>\n",
       "      <td>200010310CHI</td>\n",
       "      <td>NBA</td>\n",
       "      <td>0</td>\n",
       "      <td>2001</td>\n",
       "      <td>10/31/2000</td>\n",
       "      <td>1</td>\n",
       "      <td>0</td>\n",
       "      <td>CHI</td>\n",
       "      <td>Bulls</td>\n",
       "      <td>...</td>\n",
       "      <td>23.012793</td>\n",
       "      <td>SAC</td>\n",
       "      <td>Kings</td>\n",
       "      <td>100</td>\n",
       "      <td>1535.6016</td>\n",
       "      <td>1545.7308</td>\n",
       "      <td>H</td>\n",
       "      <td>L</td>\n",
       "      <td>0.348282</td>\n",
       "      <td>NaN</td>\n",
       "    </tr>\n",
       "    <tr>\n",
       "      <th>87753</th>\n",
       "      <td>43877</td>\n",
       "      <td>200010310CHI</td>\n",
       "      <td>NBA</td>\n",
       "      <td>1</td>\n",
       "      <td>2001</td>\n",
       "      <td>10/31/2000</td>\n",
       "      <td>1</td>\n",
       "      <td>0</td>\n",
       "      <td>SAC</td>\n",
       "      <td>Kings</td>\n",
       "      <td>...</td>\n",
       "      <td>45.715614</td>\n",
       "      <td>CHI</td>\n",
       "      <td>Bulls</td>\n",
       "      <td>81</td>\n",
       "      <td>1326.7501</td>\n",
       "      <td>1316.6208</td>\n",
       "      <td>A</td>\n",
       "      <td>W</td>\n",
       "      <td>0.651718</td>\n",
       "      <td>NaN</td>\n",
       "    </tr>\n",
       "    <tr>\n",
       "      <th>87754</th>\n",
       "      <td>43878</td>\n",
       "      <td>200010310DAL</td>\n",
       "      <td>NBA</td>\n",
       "      <td>0</td>\n",
       "      <td>2001</td>\n",
       "      <td>10/31/2000</td>\n",
       "      <td>1</td>\n",
       "      <td>0</td>\n",
       "      <td>DAL</td>\n",
       "      <td>Mavericks</td>\n",
       "      <td>...</td>\n",
       "      <td>45.668037</td>\n",
       "      <td>MIL</td>\n",
       "      <td>Bucks</td>\n",
       "      <td>93</td>\n",
       "      <td>1522.6825</td>\n",
       "      <td>1518.8068</td>\n",
       "      <td>H</td>\n",
       "      <td>W</td>\n",
       "      <td>0.664490</td>\n",
       "      <td>NaN</td>\n",
       "    </tr>\n",
       "    <tr>\n",
       "      <th>...</th>\n",
       "      <td>...</td>\n",
       "      <td>...</td>\n",
       "      <td>...</td>\n",
       "      <td>...</td>\n",
       "      <td>...</td>\n",
       "      <td>...</td>\n",
       "      <td>...</td>\n",
       "      <td>...</td>\n",
       "      <td>...</td>\n",
       "      <td>...</td>\n",
       "      <td>...</td>\n",
       "      <td>...</td>\n",
       "      <td>...</td>\n",
       "      <td>...</td>\n",
       "      <td>...</td>\n",
       "      <td>...</td>\n",
       "      <td>...</td>\n",
       "      <td>...</td>\n",
       "      <td>...</td>\n",
       "      <td>...</td>\n",
       "      <td>...</td>\n",
       "    </tr>\n",
       "    <tr>\n",
       "      <th>108397</th>\n",
       "      <td>54199</td>\n",
       "      <td>200806120LAL</td>\n",
       "      <td>NBA</td>\n",
       "      <td>0</td>\n",
       "      <td>2008</td>\n",
       "      <td>6/12/2008</td>\n",
       "      <td>101</td>\n",
       "      <td>1</td>\n",
       "      <td>LAL</td>\n",
       "      <td>Lakers</td>\n",
       "      <td>...</td>\n",
       "      <td>61.411533</td>\n",
       "      <td>BOS</td>\n",
       "      <td>Celtics</td>\n",
       "      <td>97</td>\n",
       "      <td>1695.3843</td>\n",
       "      <td>1707.1495</td>\n",
       "      <td>H</td>\n",
       "      <td>L</td>\n",
       "      <td>0.680708</td>\n",
       "      <td>NaN</td>\n",
       "    </tr>\n",
       "    <tr>\n",
       "      <th>108398</th>\n",
       "      <td>54200</td>\n",
       "      <td>200806150LAL</td>\n",
       "      <td>NBA</td>\n",
       "      <td>0</td>\n",
       "      <td>2008</td>\n",
       "      <td>6/15/2008</td>\n",
       "      <td>102</td>\n",
       "      <td>1</td>\n",
       "      <td>LAL</td>\n",
       "      <td>Lakers</td>\n",
       "      <td>...</td>\n",
       "      <td>61.766636</td>\n",
       "      <td>BOS</td>\n",
       "      <td>Celtics</td>\n",
       "      <td>98</td>\n",
       "      <td>1707.1495</td>\n",
       "      <td>1702.6226</td>\n",
       "      <td>H</td>\n",
       "      <td>W</td>\n",
       "      <td>0.650576</td>\n",
       "      <td>NaN</td>\n",
       "    </tr>\n",
       "    <tr>\n",
       "      <th>108399</th>\n",
       "      <td>54200</td>\n",
       "      <td>200806150LAL</td>\n",
       "      <td>NBA</td>\n",
       "      <td>1</td>\n",
       "      <td>2008</td>\n",
       "      <td>6/15/2008</td>\n",
       "      <td>107</td>\n",
       "      <td>1</td>\n",
       "      <td>BOS</td>\n",
       "      <td>Celtics</td>\n",
       "      <td>...</td>\n",
       "      <td>60.409267</td>\n",
       "      <td>LAL</td>\n",
       "      <td>Lakers</td>\n",
       "      <td>103</td>\n",
       "      <td>1715.1279</td>\n",
       "      <td>1719.6549</td>\n",
       "      <td>A</td>\n",
       "      <td>L</td>\n",
       "      <td>0.349424</td>\n",
       "      <td>NaN</td>\n",
       "    </tr>\n",
       "    <tr>\n",
       "      <th>108400</th>\n",
       "      <td>54201</td>\n",
       "      <td>200806170BOS</td>\n",
       "      <td>NBA</td>\n",
       "      <td>1</td>\n",
       "      <td>2008</td>\n",
       "      <td>6/17/2008</td>\n",
       "      <td>103</td>\n",
       "      <td>1</td>\n",
       "      <td>LAL</td>\n",
       "      <td>Lakers</td>\n",
       "      <td>...</td>\n",
       "      <td>60.245529</td>\n",
       "      <td>BOS</td>\n",
       "      <td>Celtics</td>\n",
       "      <td>131</td>\n",
       "      <td>1702.6226</td>\n",
       "      <td>1721.6619</td>\n",
       "      <td>A</td>\n",
       "      <td>L</td>\n",
       "      <td>0.382819</td>\n",
       "      <td>NaN</td>\n",
       "    </tr>\n",
       "    <tr>\n",
       "      <th>108401</th>\n",
       "      <td>54201</td>\n",
       "      <td>200806170BOS</td>\n",
       "      <td>NBA</td>\n",
       "      <td>0</td>\n",
       "      <td>2008</td>\n",
       "      <td>6/17/2008</td>\n",
       "      <td>108</td>\n",
       "      <td>1</td>\n",
       "      <td>BOS</td>\n",
       "      <td>Celtics</td>\n",
       "      <td>...</td>\n",
       "      <td>61.922741</td>\n",
       "      <td>LAL</td>\n",
       "      <td>Lakers</td>\n",
       "      <td>92</td>\n",
       "      <td>1719.6549</td>\n",
       "      <td>1700.6156</td>\n",
       "      <td>H</td>\n",
       "      <td>W</td>\n",
       "      <td>0.617181</td>\n",
       "      <td>NaN</td>\n",
       "    </tr>\n",
       "  </tbody>\n",
       "</table>\n",
       "<p>20652 rows × 23 columns</p>\n",
       "</div>"
      ],
      "text/plain": [
       "        gameorder       game_id lg_id  _iscopy  year_id   date_game  \\\n",
       "87750       43876  200010310ATL   NBA        0     2001  10/31/2000   \n",
       "87751       43876  200010310ATL   NBA        1     2001  10/31/2000   \n",
       "87752       43877  200010310CHI   NBA        0     2001  10/31/2000   \n",
       "87753       43877  200010310CHI   NBA        1     2001  10/31/2000   \n",
       "87754       43878  200010310DAL   NBA        0     2001  10/31/2000   \n",
       "...           ...           ...   ...      ...      ...         ...   \n",
       "108397      54199  200806120LAL   NBA        0     2008   6/12/2008   \n",
       "108398      54200  200806150LAL   NBA        0     2008   6/15/2008   \n",
       "108399      54200  200806150LAL   NBA        1     2008   6/15/2008   \n",
       "108400      54201  200806170BOS   NBA        1     2008   6/17/2008   \n",
       "108401      54201  200806170BOS   NBA        0     2008   6/17/2008   \n",
       "\n",
       "        seasongame  is_playoffs team_id    fran_id  ...  win_equiv  opp_id  \\\n",
       "87750            1            0     ATL      Hawks  ...  26.311760     CHH   \n",
       "87751            1            0     CHH   Pelicans  ...  48.286263     ATL   \n",
       "87752            1            0     CHI      Bulls  ...  23.012793     SAC   \n",
       "87753            1            0     SAC      Kings  ...  45.715614     CHI   \n",
       "87754            1            0     DAL  Mavericks  ...  45.668037     MIL   \n",
       "...            ...          ...     ...        ...  ...        ...     ...   \n",
       "108397         101            1     LAL     Lakers  ...  61.411533     BOS   \n",
       "108398         102            1     LAL     Lakers  ...  61.766636     BOS   \n",
       "108399         107            1     BOS    Celtics  ...  60.409267     LAL   \n",
       "108400         103            1     LAL     Lakers  ...  60.245529     BOS   \n",
       "108401         108            1     BOS    Celtics  ...  61.922741     LAL   \n",
       "\n",
       "        opp_fran  opp_pts  opp_elo_i  opp_elo_n  game_location  game_result  \\\n",
       "87750   Pelicans      106  1557.8643  1570.7832              H            L   \n",
       "87751      Hawks       82  1366.9685  1354.0496              A            W   \n",
       "87752      Kings      100  1535.6016  1545.7308              H            L   \n",
       "87753      Bulls       81  1326.7501  1316.6208              A            W   \n",
       "87754      Bucks       93  1522.6825  1518.8068              H            W   \n",
       "...          ...      ...        ...        ...            ...          ...   \n",
       "108397   Celtics       97  1695.3843  1707.1495              H            L   \n",
       "108398   Celtics       98  1707.1495  1702.6226              H            W   \n",
       "108399    Lakers      103  1715.1279  1719.6549              A            L   \n",
       "108400   Celtics      131  1702.6226  1721.6619              A            L   \n",
       "108401    Lakers       92  1719.6549  1700.6156              H            W   \n",
       "\n",
       "        forecast notes  \n",
       "87750   0.372095   NaN  \n",
       "87751   0.627905   NaN  \n",
       "87752   0.348282   NaN  \n",
       "87753   0.651718   NaN  \n",
       "87754   0.664490   NaN  \n",
       "...          ...   ...  \n",
       "108397  0.680708   NaN  \n",
       "108398  0.650576   NaN  \n",
       "108399  0.349424   NaN  \n",
       "108400  0.382819   NaN  \n",
       "108401  0.617181   NaN  \n",
       "\n",
       "[20652 rows x 23 columns]"
      ]
     },
     "execution_count": 18,
     "metadata": {},
     "output_type": "execute_result"
    }
   ],
   "source": [
    "nba_new = nba[(nba['year_id'] >2000) & (nba['year_id'] <2009)]\n",
    "print(nba_new.shape)\n",
    "nba_new"
   ]
  },
  {
   "cell_type": "markdown",
   "metadata": {},
   "source": [
    "# Solution 7 Ends"
   ]
  },
  {
   "cell_type": "code",
   "execution_count": null,
   "metadata": {},
   "outputs": [],
   "source": [
    "#selecting rows where a specific field is not null .notnull() or .notna()\n",
    "games_with_notes = nba[nba[\"notes\"].notnull()]\n",
    "games_with_notes.shape"
   ]
  },
  {
   "cell_type": "code",
   "execution_count": null,
   "metadata": {},
   "outputs": [],
   "source": [
    "#filter your dataset and find all games where the home team's name ends with \"ers\".\n",
    "ers = nba[nba[\"fran_id\"].str.endswith(\"ers\")]\n",
    "ers.shape"
   ]
  },
  {
   "cell_type": "code",
   "execution_count": null,
   "metadata": {},
   "outputs": [],
   "source": [
    "#search for Baltimore games where both teams scored over 100 points.\n",
    "#In order to see each game only once, you’ll need to exclude duplicates\n",
    "nba[(nba[\"_iscopy\"] == 0) & (nba[\"pts\"] > 100) & (nba[\"opp_pts\"] > 100) & (nba[\"team_id\"] == \"BLB\")]"
   ]
  },
  {
   "cell_type": "markdown",
   "metadata": {},
   "source": [
    "# Question.8:\n",
    "Filter your dataset and find all the playoffs games where the number of points scored by both home and away was more than 100 in 2011 and make sure you do not include duplicates (do notforget the parentheses)."
   ]
  },
  {
   "cell_type": "markdown",
   "metadata": {},
   "source": [
    "# Solution 8"
   ]
  },
  {
   "cell_type": "code",
   "execution_count": 19,
   "metadata": {},
   "outputs": [
    {
     "data": {
      "text/html": [
       "<div>\n",
       "<style scoped>\n",
       "    .dataframe tbody tr th:only-of-type {\n",
       "        vertical-align: middle;\n",
       "    }\n",
       "\n",
       "    .dataframe tbody tr th {\n",
       "        vertical-align: top;\n",
       "    }\n",
       "\n",
       "    .dataframe thead th {\n",
       "        text-align: right;\n",
       "    }\n",
       "</style>\n",
       "<table border=\"1\" class=\"dataframe\">\n",
       "  <thead>\n",
       "    <tr style=\"text-align: right;\">\n",
       "      <th></th>\n",
       "      <th>gameorder</th>\n",
       "      <th>game_id</th>\n",
       "      <th>lg_id</th>\n",
       "      <th>_iscopy</th>\n",
       "      <th>year_id</th>\n",
       "      <th>date_game</th>\n",
       "      <th>seasongame</th>\n",
       "      <th>is_playoffs</th>\n",
       "      <th>team_id</th>\n",
       "      <th>fran_id</th>\n",
       "      <th>...</th>\n",
       "      <th>win_equiv</th>\n",
       "      <th>opp_id</th>\n",
       "      <th>opp_fran</th>\n",
       "      <th>opp_pts</th>\n",
       "      <th>opp_elo_i</th>\n",
       "      <th>opp_elo_n</th>\n",
       "      <th>game_location</th>\n",
       "      <th>game_result</th>\n",
       "      <th>forecast</th>\n",
       "      <th>notes</th>\n",
       "    </tr>\n",
       "  </thead>\n",
       "  <tbody>\n",
       "    <tr>\n",
       "      <th>116128</th>\n",
       "      <td>58065</td>\n",
       "      <td>201104170OKC</td>\n",
       "      <td>NBA</td>\n",
       "      <td>0</td>\n",
       "      <td>2011</td>\n",
       "      <td>4/17/2011</td>\n",
       "      <td>83</td>\n",
       "      <td>1</td>\n",
       "      <td>OKC</td>\n",
       "      <td>Thunder</td>\n",
       "      <td>...</td>\n",
       "      <td>57.193829</td>\n",
       "      <td>DEN</td>\n",
       "      <td>Nuggets</td>\n",
       "      <td>103</td>\n",
       "      <td>1635.5801</td>\n",
       "      <td>1631.8573</td>\n",
       "      <td>H</td>\n",
       "      <td>W</td>\n",
       "      <td>0.675665</td>\n",
       "      <td>NaN</td>\n",
       "    </tr>\n",
       "    <tr>\n",
       "      <th>116178</th>\n",
       "      <td>58090</td>\n",
       "      <td>201104250DEN</td>\n",
       "      <td>NBA</td>\n",
       "      <td>0</td>\n",
       "      <td>2011</td>\n",
       "      <td>4/25/2011</td>\n",
       "      <td>86</td>\n",
       "      <td>1</td>\n",
       "      <td>DEN</td>\n",
       "      <td>Nuggets</td>\n",
       "      <td>...</td>\n",
       "      <td>53.039177</td>\n",
       "      <td>OKC</td>\n",
       "      <td>Thunder</td>\n",
       "      <td>101</td>\n",
       "      <td>1681.7482</td>\n",
       "      <td>1676.8589</td>\n",
       "      <td>H</td>\n",
       "      <td>W</td>\n",
       "      <td>0.550426</td>\n",
       "      <td>NaN</td>\n",
       "    </tr>\n",
       "    <tr>\n",
       "      <th>116193</th>\n",
       "      <td>58097</td>\n",
       "      <td>201104270SAS</td>\n",
       "      <td>NBA</td>\n",
       "      <td>0</td>\n",
       "      <td>2011</td>\n",
       "      <td>4/27/2011</td>\n",
       "      <td>87</td>\n",
       "      <td>1</td>\n",
       "      <td>SAS</td>\n",
       "      <td>Spurs</td>\n",
       "      <td>...</td>\n",
       "      <td>52.749161</td>\n",
       "      <td>MEM</td>\n",
       "      <td>Grizzlies</td>\n",
       "      <td>103</td>\n",
       "      <td>1606.2883</td>\n",
       "      <td>1600.8541</td>\n",
       "      <td>H</td>\n",
       "      <td>W</td>\n",
       "      <td>0.649367</td>\n",
       "      <td>NaN</td>\n",
       "    </tr>\n",
       "    <tr>\n",
       "      <th>116205</th>\n",
       "      <td>58103</td>\n",
       "      <td>201105010OKC</td>\n",
       "      <td>NBA</td>\n",
       "      <td>0</td>\n",
       "      <td>2011</td>\n",
       "      <td>5/1/2011</td>\n",
       "      <td>88</td>\n",
       "      <td>1</td>\n",
       "      <td>OKC</td>\n",
       "      <td>Thunder</td>\n",
       "      <td>...</td>\n",
       "      <td>56.499226</td>\n",
       "      <td>MEM</td>\n",
       "      <td>Grizzlies</td>\n",
       "      <td>114</td>\n",
       "      <td>1607.3979</td>\n",
       "      <td>1628.1342</td>\n",
       "      <td>H</td>\n",
       "      <td>L</td>\n",
       "      <td>0.729509</td>\n",
       "      <td>NaN</td>\n",
       "    </tr>\n",
       "    <tr>\n",
       "      <th>116213</th>\n",
       "      <td>58107</td>\n",
       "      <td>201105030OKC</td>\n",
       "      <td>NBA</td>\n",
       "      <td>0</td>\n",
       "      <td>2011</td>\n",
       "      <td>5/3/2011</td>\n",
       "      <td>89</td>\n",
       "      <td>1</td>\n",
       "      <td>OKC</td>\n",
       "      <td>Thunder</td>\n",
       "      <td>...</td>\n",
       "      <td>57.003559</td>\n",
       "      <td>MEM</td>\n",
       "      <td>Grizzlies</td>\n",
       "      <td>102</td>\n",
       "      <td>1628.1342</td>\n",
       "      <td>1622.4935</td>\n",
       "      <td>H</td>\n",
       "      <td>W</td>\n",
       "      <td>0.679919</td>\n",
       "      <td>NaN</td>\n",
       "    </tr>\n",
       "    <tr>\n",
       "      <th>116233</th>\n",
       "      <td>58117</td>\n",
       "      <td>201105090MEM</td>\n",
       "      <td>NBA</td>\n",
       "      <td>0</td>\n",
       "      <td>2011</td>\n",
       "      <td>5/9/2011</td>\n",
       "      <td>92</td>\n",
       "      <td>1</td>\n",
       "      <td>MEM</td>\n",
       "      <td>Grizzlies</td>\n",
       "      <td>...</td>\n",
       "      <td>52.526051</td>\n",
       "      <td>OKC</td>\n",
       "      <td>Thunder</td>\n",
       "      <td>133</td>\n",
       "      <td>1657.4073</td>\n",
       "      <td>1670.6829</td>\n",
       "      <td>H</td>\n",
       "      <td>L</td>\n",
       "      <td>0.602617</td>\n",
       "      <td>NaN</td>\n",
       "    </tr>\n",
       "    <tr>\n",
       "      <th>116248</th>\n",
       "      <td>58125</td>\n",
       "      <td>201105170DAL</td>\n",
       "      <td>NBA</td>\n",
       "      <td>0</td>\n",
       "      <td>2011</td>\n",
       "      <td>5/17/2011</td>\n",
       "      <td>93</td>\n",
       "      <td>1</td>\n",
       "      <td>DAL</td>\n",
       "      <td>Mavericks</td>\n",
       "      <td>...</td>\n",
       "      <td>60.352184</td>\n",
       "      <td>OKC</td>\n",
       "      <td>Thunder</td>\n",
       "      <td>112</td>\n",
       "      <td>1677.5952</td>\n",
       "      <td>1671.6759</td>\n",
       "      <td>H</td>\n",
       "      <td>W</td>\n",
       "      <td>0.666656</td>\n",
       "      <td>NaN</td>\n",
       "    </tr>\n",
       "    <tr>\n",
       "      <th>116258</th>\n",
       "      <td>58130</td>\n",
       "      <td>201105230OKC</td>\n",
       "      <td>NBA</td>\n",
       "      <td>0</td>\n",
       "      <td>2011</td>\n",
       "      <td>5/23/2011</td>\n",
       "      <td>98</td>\n",
       "      <td>1</td>\n",
       "      <td>OKC</td>\n",
       "      <td>Thunder</td>\n",
       "      <td>...</td>\n",
       "      <td>56.792259</td>\n",
       "      <td>DAL</td>\n",
       "      <td>Mavericks</td>\n",
       "      <td>112</td>\n",
       "      <td>1702.6158</td>\n",
       "      <td>1713.3115</td>\n",
       "      <td>H</td>\n",
       "      <td>L</td>\n",
       "      <td>0.599898</td>\n",
       "      <td>NaN</td>\n",
       "    </tr>\n",
       "    <tr>\n",
       "      <th>116275</th>\n",
       "      <td>58138</td>\n",
       "      <td>201106090DAL</td>\n",
       "      <td>NBA</td>\n",
       "      <td>0</td>\n",
       "      <td>2011</td>\n",
       "      <td>6/9/2011</td>\n",
       "      <td>102</td>\n",
       "      <td>1</td>\n",
       "      <td>DAL</td>\n",
       "      <td>Mavericks</td>\n",
       "      <td>...</td>\n",
       "      <td>61.774223</td>\n",
       "      <td>MIA</td>\n",
       "      <td>Heat</td>\n",
       "      <td>103</td>\n",
       "      <td>1722.4176</td>\n",
       "      <td>1715.7157</td>\n",
       "      <td>H</td>\n",
       "      <td>W</td>\n",
       "      <td>0.630233</td>\n",
       "      <td>NaN</td>\n",
       "    </tr>\n",
       "  </tbody>\n",
       "</table>\n",
       "<p>9 rows × 23 columns</p>\n",
       "</div>"
      ],
      "text/plain": [
       "        gameorder       game_id lg_id  _iscopy  year_id  date_game  \\\n",
       "116128      58065  201104170OKC   NBA        0     2011  4/17/2011   \n",
       "116178      58090  201104250DEN   NBA        0     2011  4/25/2011   \n",
       "116193      58097  201104270SAS   NBA        0     2011  4/27/2011   \n",
       "116205      58103  201105010OKC   NBA        0     2011   5/1/2011   \n",
       "116213      58107  201105030OKC   NBA        0     2011   5/3/2011   \n",
       "116233      58117  201105090MEM   NBA        0     2011   5/9/2011   \n",
       "116248      58125  201105170DAL   NBA        0     2011  5/17/2011   \n",
       "116258      58130  201105230OKC   NBA        0     2011  5/23/2011   \n",
       "116275      58138  201106090DAL   NBA        0     2011   6/9/2011   \n",
       "\n",
       "        seasongame  is_playoffs team_id    fran_id  ...  win_equiv  opp_id  \\\n",
       "116128          83            1     OKC    Thunder  ...  57.193829     DEN   \n",
       "116178          86            1     DEN    Nuggets  ...  53.039177     OKC   \n",
       "116193          87            1     SAS      Spurs  ...  52.749161     MEM   \n",
       "116205          88            1     OKC    Thunder  ...  56.499226     MEM   \n",
       "116213          89            1     OKC    Thunder  ...  57.003559     MEM   \n",
       "116233          92            1     MEM  Grizzlies  ...  52.526051     OKC   \n",
       "116248          93            1     DAL  Mavericks  ...  60.352184     OKC   \n",
       "116258          98            1     OKC    Thunder  ...  56.792259     DAL   \n",
       "116275         102            1     DAL  Mavericks  ...  61.774223     MIA   \n",
       "\n",
       "         opp_fran  opp_pts  opp_elo_i  opp_elo_n  game_location  game_result  \\\n",
       "116128    Nuggets      103  1635.5801  1631.8573              H            W   \n",
       "116178    Thunder      101  1681.7482  1676.8589              H            W   \n",
       "116193  Grizzlies      103  1606.2883  1600.8541              H            W   \n",
       "116205  Grizzlies      114  1607.3979  1628.1342              H            L   \n",
       "116213  Grizzlies      102  1628.1342  1622.4935              H            W   \n",
       "116233    Thunder      133  1657.4073  1670.6829              H            L   \n",
       "116248    Thunder      112  1677.5952  1671.6759              H            W   \n",
       "116258  Mavericks      112  1702.6158  1713.3115              H            L   \n",
       "116275       Heat      103  1722.4176  1715.7157              H            W   \n",
       "\n",
       "        forecast notes  \n",
       "116128  0.675665   NaN  \n",
       "116178  0.550426   NaN  \n",
       "116193  0.649367   NaN  \n",
       "116205  0.729509   NaN  \n",
       "116213  0.679919   NaN  \n",
       "116233  0.602617   NaN  \n",
       "116248  0.666656   NaN  \n",
       "116258  0.599898   NaN  \n",
       "116275  0.630233   NaN  \n",
       "\n",
       "[9 rows x 23 columns]"
      ]
     },
     "execution_count": 19,
     "metadata": {},
     "output_type": "execute_result"
    }
   ],
   "source": [
    "nba[(nba['is_playoffs'] == 1) & (nba['pts'] > 100) & (nba['opp_pts']>100) & (nba['year_id'] == 2011) & (nba['_iscopy'] == 0)]"
   ]
  },
  {
   "cell_type": "markdown",
   "metadata": {},
   "source": [
    "We can observe that there are only 9 matches where both the teams scored more than 100 points in playoffs in 2011 season."
   ]
  },
  {
   "cell_type": "markdown",
   "metadata": {},
   "source": [
    "# Solution 8 Ends"
   ]
  },
  {
   "cell_type": "markdown",
   "metadata": {},
   "source": [
    "# Task6: Grouping and Aggregating your Data."
   ]
  },
  {
   "cell_type": "code",
   "execution_count": null,
   "metadata": {},
   "outputs": [],
   "source": [
    "#grouping - group all games for fran_id and sum their points and override the default of sorting\n",
    "nba.groupby(\"fran_id\", sort=False)[\"pts\"].sum()\n",
    "\n",
    "#group by multiple columns\n",
    "nba[(nba[\"fran_id\"] == \"Spurs\") & (nba[\"year_id\"] > 2010)].groupby([\"year_id\", \"game_result\"])[\"game_id\"].count()"
   ]
  },
  {
   "cell_type": "markdown",
   "metadata": {},
   "source": [
    "# Question.9:\n",
    "Take a look at the New York Knicks 2011-12 season (year_id: 2012).\n",
    "How many wins and losses did they score during the regular season and the playoffs?"
   ]
  },
  {
   "cell_type": "markdown",
   "metadata": {},
   "source": [
    "# Solution 9"
   ]
  },
  {
   "cell_type": "code",
   "execution_count": 20,
   "metadata": {},
   "outputs": [
    {
     "data": {
      "text/plain": [
       "is_playoffs  game_result\n",
       "0            L              30\n",
       "             W              36\n",
       "1            L               4\n",
       "             W               1\n",
       "Name: game_id, dtype: int64"
      ]
     },
     "execution_count": 20,
     "metadata": {},
     "output_type": "execute_result"
    }
   ],
   "source": [
    "nba[(nba['team_id'] == 'NYK') & (nba['year_id'] == 2012)].groupby(['is_playoffs', 'game_result'])[\"game_id\"].count()"
   ]
  },
  {
   "cell_type": "markdown",
   "metadata": {},
   "source": [
    "We can observe that is_playoffs column says that if value is 0 it means its a regular season and 1 means its playoff. So we split based on is_playoffs and fetched the counts of wins and losses in each type of play."
   ]
  },
  {
   "cell_type": "markdown",
   "metadata": {},
   "source": [
    "# Solution 9 Ends"
   ]
  },
  {
   "cell_type": "markdown",
   "metadata": {},
   "source": [
    "# Task7: Manipulating Columns."
   ]
  },
  {
   "cell_type": "code",
   "execution_count": null,
   "metadata": {},
   "outputs": [],
   "source": [
    "#create a copy of your original DataFrame to work with\n",
    "df = nba.copy()\n",
    "df.shape\n",
    "\n",
    "#define new columns based on the existing ones\n",
    "df[\"difference\"] = df.pts - df.opp_pts\n",
    "df.shape\n",
    "\n",
    "#use an aggregation function .max() to find the largest value of your new column\n",
    "df[\"difference\"].max()\n",
    "\n",
    "#rename the columns of your dataset\n",
    "renamed_df = df.rename(columns={\"game_result\": \"result\", \"game_location\": \"location\"})\n",
    "renamed_df.info()"
   ]
  },
  {
   "cell_type": "code",
   "execution_count": null,
   "metadata": {},
   "outputs": [],
   "source": [
    "#delete unwanted columns – you will not be analysing Elo ratings here, so go ahead and delete them\n",
    "df.shape\n",
    "elo_columns = [\"elo_i\", \"elo_n\", \"opp_elo_i\", \"opp_elo_n\"]\n",
    "df.drop(elo_columns, inplace=True, axis=1)\n",
    "df.shape"
   ]
  },
  {
   "cell_type": "markdown",
   "metadata": {},
   "source": [
    "# Task8: Specifying Data Types."
   ]
  },
  {
   "cell_type": "code",
   "execution_count": null,
   "metadata": {},
   "outputs": [],
   "source": [
    "#take a look at the DataFrame\n",
    "df.info()"
   ]
  },
  {
   "cell_type": "code",
   "execution_count": null,
   "metadata": {},
   "outputs": [],
   "source": [
    "# use .to_datetime() to specify all game dates as datetime objects.\n",
    "df[\"date_game\"] = pd.to_datetime(df[\"date_game\"])"
   ]
  },
  {
   "cell_type": "code",
   "execution_count": null,
   "metadata": {},
   "outputs": [],
   "source": [
    "#game_location column can have only three different values.\n",
    "#you can see this by executing this code\n",
    "df[\"game_location\"].nunique()\n",
    "df[\"game_location\"].value_counts()\n",
    "\n",
    "#change the data type to categorical and check it\n",
    "df[\"game_location\"] = pd.Categorical(df[\"game_location\"])\n",
    "df[\"game_location\"].dtype"
   ]
  },
  {
   "cell_type": "markdown",
   "metadata": {},
   "source": [
    "# Question.10:\n",
    "Find another column in the nba dataset with a generic data type and convert it to a more specific one."
   ]
  },
  {
   "cell_type": "markdown",
   "metadata": {},
   "source": [
    "# Solution 10"
   ]
  },
  {
   "cell_type": "code",
   "execution_count": 21,
   "metadata": {},
   "outputs": [
    {
     "name": "stdout",
     "output_type": "stream",
     "text": [
      "Number of distinct values in game result: 2\n",
      "\n",
      "Counts of Wins and Losses:\n",
      "L    63157\n",
      "W    63157\n",
      "Name: game_result, dtype: int64\n"
     ]
    },
    {
     "data": {
      "text/plain": [
       "CategoricalDtype(categories=['L', 'W'], ordered=False)"
      ]
     },
     "execution_count": 21,
     "metadata": {},
     "output_type": "execute_result"
    }
   ],
   "source": [
    "df = nba.copy()\n",
    "print('Number of distinct values in game result:',df[\"game_result\"].nunique())\n",
    "print('\\nCounts of Wins and Losses:\\n',df[\"game_result\"].value_counts(),sep='')\n",
    "df['game_result'] = pd.Categorical(df['game_result'])\n",
    "df['game_result'].dtype"
   ]
  },
  {
   "cell_type": "markdown",
   "metadata": {},
   "source": [
    "# Solution 10 Ends"
   ]
  },
  {
   "cell_type": "markdown",
   "metadata": {},
   "source": [
    "# Task9: Cleaning the Data"
   ]
  },
  {
   "cell_type": "code",
   "execution_count": null,
   "metadata": {},
   "outputs": [],
   "source": [
    "#1st way- usually best approach is to ignore them, remove all rows with missing values\n",
    "rows_without_missing_data = nba.dropna()\n",
    "rows_without_missing_data.shape\n",
    "\n",
    "#2nd way - drop columns if they are not relevant to your analysis\n",
    "data_without_missing_columns = nba.dropna(axis=1)\n",
    "data_without_missing_columns.shape\n",
    "\n",
    "#3rd way - replace the missing values with a meaningful default value for your use case\n",
    "data_with_default_notes = nba.copy()\n",
    "data_with_default_notes[\"notes\"].fillna(value=\"no notes at all\", inplace=True)\n",
    "data_with_default_notes[\"notes\"].describe()"
   ]
  },
  {
   "cell_type": "code",
   "execution_count": null,
   "metadata": {},
   "outputs": [],
   "source": [
    "#selecting the games where pts are 0\n",
    "nba[nba[\"pts\"] == 0]"
   ]
  },
  {
   "cell_type": "code",
   "execution_count": null,
   "metadata": {},
   "outputs": [],
   "source": [
    "#check using the .empty() attribute\n",
    "nba[(nba[\"pts\"] > nba[\"opp_pts\"]) & (nba[\"game_result\"] != 'W')].empty\n",
    "nba[(nba[\"pts\"] < nba[\"opp_pts\"]) & (nba[\"game_result\"] != 'L')].empty"
   ]
  },
  {
   "cell_type": "markdown",
   "metadata": {},
   "source": [
    "# Task10: Data Visualisation"
   ]
  },
  {
   "cell_type": "code",
   "execution_count": null,
   "metadata": {},
   "outputs": [],
   "source": [
    "#include this line to show plots directly in the notebook\n",
    "%matplotlib inline\n",
    "\n",
    "#visualise how many points the Knicks scored throughout the seasons\n",
    "nba[nba[\"fran_id\"] == \"Knicks\"].groupby(\"year_id\")[\"pts\"].sum().plot()"
   ]
  },
  {
   "cell_type": "code",
   "execution_count": null,
   "metadata": {},
   "outputs": [],
   "source": [
    "#create a bar plot to show the franchises with the most games played\n",
    "nba[\"fran_id\"].value_counts().head(10).plot(kind=\"bar\")"
   ]
  },
  {
   "cell_type": "markdown",
   "metadata": {},
   "source": [
    "# Question.11:\n",
    "11.1) Explain what the above line plot, showing how many points the Knicks scored throughout the seasons, reveals to you (i.e. describe what you find out).\n",
    "\n",
    "11.2) Describe what the above bar plot reveals about the franchises with the most games played.\n",
    "\n",
    "11.3) In 2013, the Miami Heat won the championship. Create a pie plot showing the count of their wins and losses during that season. (First, define a criterion to include only the Heat's games from 2013. Then, create a plot in the same way as you have seen above)"
   ]
  },
  {
   "cell_type": "markdown",
   "metadata": {},
   "source": [
    "# Solution 11.1"
   ]
  },
  {
   "cell_type": "markdown",
   "metadata": {},
   "source": [
    "During the 1950's Knicks scored around 4000 points which is very less compared that over time.\n",
    "\n",
    "Later there was almost 100 percent increase in 1960 which is almost 8000 points compared to 1950.\n",
    "\n",
    "1970 being the highest scored in all the seasons of Knicks with over 11000 points.\n",
    "\n",
    "In the rest of the years Knicks points were maintained close to 10000 and not less than 8000 till 2000.\n",
    "\n",
    "In 2000 there is a drastic drop in overall score to 6000 which is the lowest after 1960's.\n",
    "\n",
    "After year 2000, points were maintained in an interval of 7000-9000, till 2010-2011."
   ]
  },
  {
   "cell_type": "markdown",
   "metadata": {},
   "source": [
    "# Solution 11.2"
   ]
  },
  {
   "cell_type": "markdown",
   "metadata": {},
   "source": [
    "The bar plot shows the top 10 franchises in the order of highest number matches played.\n",
    "\n",
    "Lakers played the highest number of matches and tops the list and is the only franchise with maches over 6000.\n",
    "\n",
    "Celtics is just behind Lakers close to 6000 matches.\n",
    "\n",
    "Knicks, Warriors, Pistons, Sixers, Hawks and Kings are in next positions with matches over 5000, followed by Wizards and Spurs with number of matches just over 4000 and Spurs being at the 10th position."
   ]
  },
  {
   "cell_type": "markdown",
   "metadata": {},
   "source": [
    "# Solution 11.3"
   ]
  },
  {
   "cell_type": "code",
   "execution_count": 24,
   "metadata": {},
   "outputs": [
    {
     "data": {
      "image/png": "[encoded data removed]",
      "text/plain": [
       "<Figure size 432x288 with 1 Axes>"
      ]
     },
     "metadata": {},
     "output_type": "display_data"
    }
   ],
   "source": [
    "mh_data = nba[(nba['year_id'] == 2013) & (nba['fran_id'] == 'Heat')]\n",
    "mh_data['game_result'].replace('W','Wins',inplace = True)\n",
    "mh_data['game_result'].replace('L','Losses',inplace = True)\n",
    "plot_data = mh_data['game_result'].value_counts()\n",
    "counts = list(plot_data)\n",
    "\n",
    "def fetch_count(val):\n",
    "    num = int(round(val/100.*sum(counts), 0))\n",
    "    cnt = str(num)+' ('+str(round(val,2))+'%)'\n",
    "    return cnt\n",
    "\n",
    "mh_plot = plot_data.plot(kind = 'pie', autopct = fetch_count, colors = ['green','red'],labeldistance = 0.4)\n",
    "mh_plot.set_title('Counts and Percentage of \\nWins and Losses of Miami Heat in 2013')\n",
    "mh_plot.set_axis_off()"
   ]
  },
  {
   "cell_type": "markdown",
   "metadata": {},
   "source": [
    "# Solution 11 Ends"
   ]
  }
 ],
 "metadata": {
  "kernelspec": {
   "display_name": "Python 3",
   "language": "python",
   "name": "python3"
  },
  "language_info": {
   "codemirror_mode": {
    "name": "ipython",
    "version": 3
   },
   "file_extension": ".py",
   "mimetype": "text/x-python",
   "name": "python",
   "nbconvert_exporter": "python",
   "pygments_lexer": "ipython3",
   "version": "3.7.10"
  }
 },
 "nbformat": 4,
 "nbformat_minor": 4
}
